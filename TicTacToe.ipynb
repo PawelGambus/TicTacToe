{
 "cells": [
  {
   "cell_type": "code",
   "execution_count": 17,
   "metadata": {},
   "outputs": [],
   "source": [
    "#Author: Paweł Gambuś (gitHub: PawelGambus), March 2020\n",
    "#The code can be reused in any non-commercial way.\n",
    "#Please remember to attach this note when reused"
   ]
  },
  {
   "cell_type": "code",
   "execution_count": null,
   "metadata": {},
   "outputs": [],
   "source": [
    "import numpy as np"
   ]
  },
  {
   "cell_type": "code",
   "execution_count": 6,
   "metadata": {},
   "outputs": [],
   "source": [
    "class Game:  \n",
    "    \n",
    "    def __init__(self):\n",
    "        self.__board = Board(9)\n",
    "        self.current_player = 0\n",
    "        self.__players = ['o','x']\n",
    "        self.__winner = None\n",
    "        self.__game_over = False\n",
    "        self.__winning_sets = [[0,1,2], [3,4,5], [6,7,8], [0,3,6], [1,4,7], [2,5,8], [0,4,8], [6,4,2]]\n",
    "        \n",
    "    def get_board(self):\n",
    "        return self.__board\n",
    "    \n",
    "    def move(self, pos):\n",
    "        if(self.__board.is_empty(pos)):\n",
    "            self.__board.put(self.__players[self.current_player],pos)\n",
    "            if(self.has_winning_set(pos)):\n",
    "                self.__winner = self.current_player\n",
    "                self.finish_game()\n",
    "        if(self.__board.empty_left() == 0):\n",
    "            self.finish_game()\n",
    "        self.next_player()\n",
    "    \n",
    "    def next_player(self):\n",
    "        self.current_player += 1\n",
    "        self.current_player = self.current_player % len(self.__players) \n",
    "        \n",
    "    def get_players(self):\n",
    "        return self.__players\n",
    "    \n",
    "    def has_winning_set(self, pos):\n",
    "        if self.current_winning_set(pos) == None:\n",
    "            return False\n",
    "        return True\n",
    "    \n",
    "    def get_winning_sets(self, pos): \n",
    "        winning_sets = []\n",
    "        for winning_set in self.__winning_sets:\n",
    "            if pos in winning_set:\n",
    "                winning_sets.append(winning_set)\n",
    "        return winning_sets\n",
    "    \n",
    "    def current_winning_set(self, pos):\n",
    "        winning_sets = self.get_winning_sets(pos)\n",
    "        \n",
    "        for winning_set in winning_sets:\n",
    "            counter = 0\n",
    "            board_fields = self.__board.get_fields()\n",
    "            for pos in winning_set:\n",
    "                if board_fields[pos] == self.__players[self.current_player]:\n",
    "                    counter += 1\n",
    "                    if counter == 3:\n",
    "                        return winning_set\n",
    "        return None\n",
    "        \n",
    "    \n",
    "    def has_winner(self):\n",
    "        return self.__winner != None\n",
    "    \n",
    "    def get_winner(self):\n",
    "        return self.__winner\n",
    "    \n",
    "    def finish_game(self):\n",
    "        self.__game_over = True\n",
    "        \n",
    "    def is_over(self):\n",
    "        return self.__game_over"
   ]
  },
  {
   "cell_type": "code",
   "execution_count": 3,
   "metadata": {},
   "outputs": [],
   "source": [
    "class Board:\n",
    "    def __init__(self, size):\n",
    "        self.__fields = [None] * size\n",
    "    \n",
    "    def get_fields(self):\n",
    "        return self.__fields\n",
    "    \n",
    "    def put(self, item, position):\n",
    "        self.__fields[position] = item\n",
    "        \n",
    "    def is_empty(self, position):\n",
    "        if self.__fields[position] == None:\n",
    "            return True\n",
    "    \n",
    "    def empty_left(self):\n",
    "        return sum(field is None for field in self.__fields)   "
   ]
  },
  {
   "cell_type": "code",
   "execution_count": 9,
   "metadata": {},
   "outputs": [],
   "source": [
    "import sys\n",
    "class UI:\n",
    "    def __init__(self):\n",
    "        self.__game = Game()\n",
    "        print(self.__game)\n",
    "        self.__board = self.__game.get_board()\n",
    "        self.refresh_view()\n",
    "        self.play()\n",
    "    \n",
    "    def refresh_view(self):\n",
    "        print(np.array(self.__board.get_fields()).reshape(3,3))\n",
    "        \n",
    "    def play(self):\n",
    "        if(self.__game.is_over()):\n",
    "            if(self.__game.has_winner()):\n",
    "                print('Congratulations! The winning player is ' + str(self.__game.get_players()[self.__game.get_winner()]) )\n",
    "            else:\n",
    "                print('Whoops! None of you won!')\n",
    "            return\n",
    "            \n",
    "        position = input('Please specify position of the next ' + str(self.__game.get_players()[self.__game.current_player]) + ' ')\n",
    "        self.__game.move(int(position))\n",
    "        self.refresh_view()\n",
    "        self.play()"
   ]
  },
  {
   "cell_type": "code",
   "execution_count": null,
   "metadata": {},
   "outputs": [],
   "source": [
    "UI()"
   ]
  }
 ],
 "metadata": {
  "kernelspec": {
   "display_name": "Python 3",
   "language": "python",
   "name": "python3"
  },
  "language_info": {
   "codemirror_mode": {
    "name": "ipython",
    "version": 3
   },
   "file_extension": ".py",
   "mimetype": "text/x-python",
   "name": "python",
   "nbconvert_exporter": "python",
   "pygments_lexer": "ipython3",
   "version": "3.7.4"
  }
 },
 "nbformat": 4,
 "nbformat_minor": 2
}
